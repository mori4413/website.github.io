{
  "cells": [
    {
      "cell_type": "markdown",
      "metadata": {
        "id": "view-in-github",
        "colab_type": "text"
      },
      "source": [
        "<a href=\"https://colab.research.google.com/github/mori4413/website.github.io/blob/main/fit_thermocouple.ipynb\" target=\"_parent\"><img src=\"https://colab.research.google.com/assets/colab-badge.svg\" alt=\"Open In Colab\"/></a>"
      ]
    },
    {
      "cell_type": "code",
      "execution_count": null,
      "id": "4f73889c",
      "metadata": {
        "colab": {
          "base_uri": "https://localhost:8080/"
        },
        "id": "4f73889c",
        "outputId": "48633fc9-f81f-421a-99be-46cce5eee15f"
      },
      "outputs": [
        {
          "output_type": "stream",
          "name": "stdout",
          "text": [
            "Looking in indexes: https://pypi.org/simple, https://us-python.pkg.dev/colab-wheels/public/simple/\n",
            "Collecting pypdf2\n",
            "  Downloading PyPDF2-1.28.4-py3-none-any.whl (87 kB)\n",
            "\u001b[K     |████████████████████████████████| 87 kB 6.3 MB/s \n",
            "\u001b[?25hInstalling collected packages: pypdf2\n",
            "Successfully installed pypdf2-1.28.4\n",
            "Looking in indexes: https://pypi.org/simple, https://us-python.pkg.dev/colab-wheels/public/simple/\n",
            "Collecting pikepdf\n",
            "  Downloading pikepdf-5.1.3-cp37-cp37m-manylinux_2_17_x86_64.manylinux2014_x86_64.whl (2.3 MB)\n",
            "\u001b[K     |████████████████████████████████| 2.3 MB 15.3 MB/s \n",
            "\u001b[?25hRequirement already satisfied: Pillow<10,>=6.0 in /usr/local/lib/python3.7/dist-packages (from pikepdf) (7.1.2)\n",
            "Requirement already satisfied: lxml>=4.0 in /usr/local/lib/python3.7/dist-packages (from pikepdf) (4.2.6)\n",
            "Requirement already satisfied: packaging>=20 in /usr/local/lib/python3.7/dist-packages (from pikepdf) (21.3)\n",
            "Requirement already satisfied: pyparsing!=3.0.5,>=2.0.2 in /usr/local/lib/python3.7/dist-packages (from packaging>=20->pikepdf) (3.0.9)\n",
            "Installing collected packages: pikepdf\n",
            "Successfully installed pikepdf-5.1.3\n",
            "Looking in indexes: https://pypi.org/simple, https://us-python.pkg.dev/colab-wheels/public/simple/\n",
            "Collecting pdfminer.six\n",
            "  Downloading pdfminer.six-20220524-py3-none-any.whl (5.6 MB)\n",
            "\u001b[K     |████████████████████████████████| 5.6 MB 24.4 MB/s \n",
            "\u001b[?25hCollecting cryptography>=36.0.0\n",
            "  Downloading cryptography-37.0.2-cp36-abi3-manylinux_2_24_x86_64.whl (4.0 MB)\n",
            "\u001b[K     |████████████████████████████████| 4.0 MB 42.2 MB/s \n",
            "\u001b[?25hRequirement already satisfied: charset-normalizer>=2.0.0 in /usr/local/lib/python3.7/dist-packages (from pdfminer.six) (2.0.12)\n",
            "Requirement already satisfied: cffi>=1.12 in /usr/local/lib/python3.7/dist-packages (from cryptography>=36.0.0->pdfminer.six) (1.15.0)\n",
            "Requirement already satisfied: pycparser in /usr/local/lib/python3.7/dist-packages (from cffi>=1.12->cryptography>=36.0.0->pdfminer.six) (2.21)\n",
            "Installing collected packages: cryptography, pdfminer.six\n",
            "Successfully installed cryptography-37.0.2 pdfminer.six-20220524\n"
          ]
        }
      ],
      "source": [
        "!pip install pypdf2\n",
        "!pip install pikepdf\n",
        "!pip install pdfminer.six # for japanese"
      ]
    },
    {
      "cell_type": "code",
      "execution_count": 209,
      "id": "a7ab841c",
      "metadata": {
        "id": "a7ab841c"
      },
      "outputs": [],
      "source": [
        "#\n",
        "import PyPDF2 #only English\n",
        "import pdfminer\n",
        "from pdfminer.pdfinterp import PDFResourceManager\n",
        "from pdfminer.converter import TextConverter\n",
        "from pdfminer.pdfinterp import PDFPageInterpreter\n",
        "from pdfminer.pdfpage import PDFPage\n",
        "from pdfminer.layout import LAParams\n",
        "from io import StringIO\n",
        "\n",
        "import pandas as pd\n",
        "import glob\n",
        "import os\n",
        "import pathlib\n",
        "import shutil\n",
        "from pikepdf import Pdf\n",
        "import matplotlib.pyplot as plt\n",
        "import numpy as np"
      ]
    },
    {
      "cell_type": "code",
      "execution_count": null,
      "id": "9d4a4aab",
      "metadata": {
        "colab": {
          "base_uri": "https://localhost:8080/"
        },
        "id": "9d4a4aab",
        "outputId": "5d9c7f08-f50f-4957-dc89-3ad6a1aa3b80"
      },
      "outputs": [
        {
          "output_type": "stream",
          "name": "stdout",
          "text": [
            "Mounted at /content/drive\n"
          ]
        }
      ],
      "source": [
        "#\n",
        "from google.colab import drive\n",
        "drive.mount('/content/drive')"
      ]
    },
    {
      "cell_type": "code",
      "source": [
        "f_path='/content/drive/MyDrive/Prog/Python/thermocouple_fitting/'\n",
        "\n",
        "os.chdir(f_path)\n",
        "files=os.listdir(f_path)\n",
        "print(files)"
      ],
      "metadata": {
        "colab": {
          "base_uri": "https://localhost:8080/"
        },
        "id": "aLWZWXvHdkta",
        "outputId": "7e011e55-aa5d-4fee-a6c4-31c84d37774d"
      },
      "id": "aLWZWXvHdkta",
      "execution_count": null,
      "outputs": [
        {
          "output_type": "stream",
          "name": "stdout",
          "text": [
            "['fit_thermocouple.ipynb', 'sample.pdf', 'W-5%Re.jpg', 'W-5%Re.pdf', 'W-5%Re_1.pdf', 'W-5Re.xlsx', 'pdf2txt.py']\n"
          ]
        }
      ]
    },
    {
      "cell_type": "code",
      "execution_count": null,
      "id": "bd2504ad",
      "metadata": {
        "id": "bd2504ad"
      },
      "outputs": [],
      "source": [
        "!python3 pdf2txt.py -M=5 W-5%Re_1.pdf -o out.txt\n",
        "f_name=f_path+'out.txt'\n",
        "# python.exe pdf2txt.py [options] -o [OutFilename] [InFilename] \n",
        "#調整は[options] に設定します。文字間隔(M)　単語の間隔(W)　行間隔(L)　縦読み(V)\n",
        "#パラメータ無指定の場合はデフォルト値が採用されます。 M = 1.0, W = 0.2, L = 0.3 。横読みです。\n",
        "#縦読みをしたい場合は、 -V を指定します。"
      ]
    },
    {
      "cell_type": "code",
      "source": [
        "col_names =['', '0', '10', '20', '30', '40', '50', '60', '70', '80', '90']\n",
        "df=pd.read_csv(f_name, encoding='utf-8', skiprows=1, sep=' ',names=col_names, index_col=0)# names=['raw data'])#header=10 )\n",
        "df=df.dropna()\n",
        "df"
      ],
      "metadata": {
        "colab": {
          "base_uri": "https://localhost:8080/",
          "height": 785
        },
        "id": "L1rnDIA3irgk",
        "outputId": "d10e019a-f458-4faf-d0e9-9f36cf299cfa"
      },
      "id": "L1rnDIA3irgk",
      "execution_count": 304,
      "outputs": [
        {
          "output_type": "execute_result",
          "data": {
            "text/plain": [
              "           0      10      20      30      40      50      60      70      80  \\\n",
              "                                                                               \n",
              "0      0.000   0.135   0.273   0.413   0.555   0.699   0.846   0.994   1.145   \n",
              "100    1.451   1.608   1.766   1.926   2.087   2.251   2.415   2.582   2.750   \n",
              "200    3.090   3.262   3.436   3.610   3.786   3.963   4.141   4.321   4.501   \n",
              "300    4.865   5.048   5.232   5.417   5.603   5.789   5.976   6.164   6.353   \n",
              "400    6.732   6.922   7.113   7.305   7.497   7.689   7.882   8.075   8.269   \n",
              "500    8.657   8.851   9.046   9.241   9.436   9.631   9.827  10.022  10.218   \n",
              "600   10.609  10.804  10.999  11.195  11.390  11.585  11.780  11.974  12.169   \n",
              "700   12.559  12.753  12.947  13.141  13.335  13.529  13.723  13.916  14.109   \n",
              "800   14.494  14.686  14.878  15.069  15.260  15.451  15.641  15.831  16.021   \n",
              "900   16.398  16.587  16.775  16.962  17.149  17.335  17.521  17.707  17.892   \n",
              "1000  18.260  18.444  18.627  18.809  18.991  19.172  19.353  19.533  19.713   \n",
              "1100  20.071  20.249  20.426  20.603  20.779  20.955  21.130  21.305  21.479   \n",
              "1200  21.825  21.997  22.169  22.340  22.510  22.680  22.849  23.018  23.186   \n",
              "1300  23.520  23.686  23.852  24.017  24.181  24.345  24.508  24.671  24.833   \n",
              "1400  25.155  25.315  25.475  25.633  25.792  25.949  26.107  26.263  26.419   \n",
              "1500  26.729  26.883  27.037  27.190  27.342  27.493  27.645  27.795  27.945   \n",
              "1600  28.243  28.391  28.538  28.685  28.831  28.977  29.122  29.266  29.410   \n",
              "1700  29.696  29.838  29.979  30.120  30.260  30.399  30.538  30.676  30.813   \n",
              "1800  31.087  31.222  31.357  31.491  31.625  31.758  31.890  32.022  32.153   \n",
              "1900  32.413  32.542  32.670  32.797  32.924  33.050  33.175  33.300  33.424   \n",
              "2000  33.669  33.791  33.911  34.031  34.151  34.269  34.387  34.503  34.619   \n",
              "2100  34.849  34.962  35.074  35.186  35.296  35.406  35.515  35.623  35.730   \n",
              "2200  35.940  36.044  36.147  36.249  36.350  36.449  36.548  36.645  36.742   \n",
              "\n",
              "          90  \n",
              "              \n",
              "0      1.297  \n",
              "100    2.919  \n",
              "200    4.682  \n",
              "300    6.542  \n",
              "400    8.463  \n",
              "500   10.413  \n",
              "600   12.364  \n",
              "700   14.301  \n",
              "800   16.210  \n",
              "900   18.076  \n",
              "1000  19.892  \n",
              "1100  21.652  \n",
              "1200  23.353  \n",
              "1300  24.994  \n",
              "1400  26.574  \n",
              "1500  28.094  \n",
              "1600  29.553  \n",
              "1700  30.950  \n",
              "1800  32.283  \n",
              "1900  33.547  \n",
              "2000  34.734  \n",
              "2100  35.836  \n",
              "2200  36.837  "
            ],
            "text/html": [
              "\n",
              "  <div id=\"df-d074875b-9a9c-42bb-8a49-fd8e3d65eb1d\">\n",
              "    <div class=\"colab-df-container\">\n",
              "      <div>\n",
              "<style scoped>\n",
              "    .dataframe tbody tr th:only-of-type {\n",
              "        vertical-align: middle;\n",
              "    }\n",
              "\n",
              "    .dataframe tbody tr th {\n",
              "        vertical-align: top;\n",
              "    }\n",
              "\n",
              "    .dataframe thead th {\n",
              "        text-align: right;\n",
              "    }\n",
              "</style>\n",
              "<table border=\"1\" class=\"dataframe\">\n",
              "  <thead>\n",
              "    <tr style=\"text-align: right;\">\n",
              "      <th></th>\n",
              "      <th>0</th>\n",
              "      <th>10</th>\n",
              "      <th>20</th>\n",
              "      <th>30</th>\n",
              "      <th>40</th>\n",
              "      <th>50</th>\n",
              "      <th>60</th>\n",
              "      <th>70</th>\n",
              "      <th>80</th>\n",
              "      <th>90</th>\n",
              "    </tr>\n",
              "    <tr>\n",
              "      <th></th>\n",
              "      <th></th>\n",
              "      <th></th>\n",
              "      <th></th>\n",
              "      <th></th>\n",
              "      <th></th>\n",
              "      <th></th>\n",
              "      <th></th>\n",
              "      <th></th>\n",
              "      <th></th>\n",
              "      <th></th>\n",
              "    </tr>\n",
              "  </thead>\n",
              "  <tbody>\n",
              "    <tr>\n",
              "      <th>0</th>\n",
              "      <td>0.000</td>\n",
              "      <td>0.135</td>\n",
              "      <td>0.273</td>\n",
              "      <td>0.413</td>\n",
              "      <td>0.555</td>\n",
              "      <td>0.699</td>\n",
              "      <td>0.846</td>\n",
              "      <td>0.994</td>\n",
              "      <td>1.145</td>\n",
              "      <td>1.297</td>\n",
              "    </tr>\n",
              "    <tr>\n",
              "      <th>100</th>\n",
              "      <td>1.451</td>\n",
              "      <td>1.608</td>\n",
              "      <td>1.766</td>\n",
              "      <td>1.926</td>\n",
              "      <td>2.087</td>\n",
              "      <td>2.251</td>\n",
              "      <td>2.415</td>\n",
              "      <td>2.582</td>\n",
              "      <td>2.750</td>\n",
              "      <td>2.919</td>\n",
              "    </tr>\n",
              "    <tr>\n",
              "      <th>200</th>\n",
              "      <td>3.090</td>\n",
              "      <td>3.262</td>\n",
              "      <td>3.436</td>\n",
              "      <td>3.610</td>\n",
              "      <td>3.786</td>\n",
              "      <td>3.963</td>\n",
              "      <td>4.141</td>\n",
              "      <td>4.321</td>\n",
              "      <td>4.501</td>\n",
              "      <td>4.682</td>\n",
              "    </tr>\n",
              "    <tr>\n",
              "      <th>300</th>\n",
              "      <td>4.865</td>\n",
              "      <td>5.048</td>\n",
              "      <td>5.232</td>\n",
              "      <td>5.417</td>\n",
              "      <td>5.603</td>\n",
              "      <td>5.789</td>\n",
              "      <td>5.976</td>\n",
              "      <td>6.164</td>\n",
              "      <td>6.353</td>\n",
              "      <td>6.542</td>\n",
              "    </tr>\n",
              "    <tr>\n",
              "      <th>400</th>\n",
              "      <td>6.732</td>\n",
              "      <td>6.922</td>\n",
              "      <td>7.113</td>\n",
              "      <td>7.305</td>\n",
              "      <td>7.497</td>\n",
              "      <td>7.689</td>\n",
              "      <td>7.882</td>\n",
              "      <td>8.075</td>\n",
              "      <td>8.269</td>\n",
              "      <td>8.463</td>\n",
              "    </tr>\n",
              "    <tr>\n",
              "      <th>500</th>\n",
              "      <td>8.657</td>\n",
              "      <td>8.851</td>\n",
              "      <td>9.046</td>\n",
              "      <td>9.241</td>\n",
              "      <td>9.436</td>\n",
              "      <td>9.631</td>\n",
              "      <td>9.827</td>\n",
              "      <td>10.022</td>\n",
              "      <td>10.218</td>\n",
              "      <td>10.413</td>\n",
              "    </tr>\n",
              "    <tr>\n",
              "      <th>600</th>\n",
              "      <td>10.609</td>\n",
              "      <td>10.804</td>\n",
              "      <td>10.999</td>\n",
              "      <td>11.195</td>\n",
              "      <td>11.390</td>\n",
              "      <td>11.585</td>\n",
              "      <td>11.780</td>\n",
              "      <td>11.974</td>\n",
              "      <td>12.169</td>\n",
              "      <td>12.364</td>\n",
              "    </tr>\n",
              "    <tr>\n",
              "      <th>700</th>\n",
              "      <td>12.559</td>\n",
              "      <td>12.753</td>\n",
              "      <td>12.947</td>\n",
              "      <td>13.141</td>\n",
              "      <td>13.335</td>\n",
              "      <td>13.529</td>\n",
              "      <td>13.723</td>\n",
              "      <td>13.916</td>\n",
              "      <td>14.109</td>\n",
              "      <td>14.301</td>\n",
              "    </tr>\n",
              "    <tr>\n",
              "      <th>800</th>\n",
              "      <td>14.494</td>\n",
              "      <td>14.686</td>\n",
              "      <td>14.878</td>\n",
              "      <td>15.069</td>\n",
              "      <td>15.260</td>\n",
              "      <td>15.451</td>\n",
              "      <td>15.641</td>\n",
              "      <td>15.831</td>\n",
              "      <td>16.021</td>\n",
              "      <td>16.210</td>\n",
              "    </tr>\n",
              "    <tr>\n",
              "      <th>900</th>\n",
              "      <td>16.398</td>\n",
              "      <td>16.587</td>\n",
              "      <td>16.775</td>\n",
              "      <td>16.962</td>\n",
              "      <td>17.149</td>\n",
              "      <td>17.335</td>\n",
              "      <td>17.521</td>\n",
              "      <td>17.707</td>\n",
              "      <td>17.892</td>\n",
              "      <td>18.076</td>\n",
              "    </tr>\n",
              "    <tr>\n",
              "      <th>1000</th>\n",
              "      <td>18.260</td>\n",
              "      <td>18.444</td>\n",
              "      <td>18.627</td>\n",
              "      <td>18.809</td>\n",
              "      <td>18.991</td>\n",
              "      <td>19.172</td>\n",
              "      <td>19.353</td>\n",
              "      <td>19.533</td>\n",
              "      <td>19.713</td>\n",
              "      <td>19.892</td>\n",
              "    </tr>\n",
              "    <tr>\n",
              "      <th>1100</th>\n",
              "      <td>20.071</td>\n",
              "      <td>20.249</td>\n",
              "      <td>20.426</td>\n",
              "      <td>20.603</td>\n",
              "      <td>20.779</td>\n",
              "      <td>20.955</td>\n",
              "      <td>21.130</td>\n",
              "      <td>21.305</td>\n",
              "      <td>21.479</td>\n",
              "      <td>21.652</td>\n",
              "    </tr>\n",
              "    <tr>\n",
              "      <th>1200</th>\n",
              "      <td>21.825</td>\n",
              "      <td>21.997</td>\n",
              "      <td>22.169</td>\n",
              "      <td>22.340</td>\n",
              "      <td>22.510</td>\n",
              "      <td>22.680</td>\n",
              "      <td>22.849</td>\n",
              "      <td>23.018</td>\n",
              "      <td>23.186</td>\n",
              "      <td>23.353</td>\n",
              "    </tr>\n",
              "    <tr>\n",
              "      <th>1300</th>\n",
              "      <td>23.520</td>\n",
              "      <td>23.686</td>\n",
              "      <td>23.852</td>\n",
              "      <td>24.017</td>\n",
              "      <td>24.181</td>\n",
              "      <td>24.345</td>\n",
              "      <td>24.508</td>\n",
              "      <td>24.671</td>\n",
              "      <td>24.833</td>\n",
              "      <td>24.994</td>\n",
              "    </tr>\n",
              "    <tr>\n",
              "      <th>1400</th>\n",
              "      <td>25.155</td>\n",
              "      <td>25.315</td>\n",
              "      <td>25.475</td>\n",
              "      <td>25.633</td>\n",
              "      <td>25.792</td>\n",
              "      <td>25.949</td>\n",
              "      <td>26.107</td>\n",
              "      <td>26.263</td>\n",
              "      <td>26.419</td>\n",
              "      <td>26.574</td>\n",
              "    </tr>\n",
              "    <tr>\n",
              "      <th>1500</th>\n",
              "      <td>26.729</td>\n",
              "      <td>26.883</td>\n",
              "      <td>27.037</td>\n",
              "      <td>27.190</td>\n",
              "      <td>27.342</td>\n",
              "      <td>27.493</td>\n",
              "      <td>27.645</td>\n",
              "      <td>27.795</td>\n",
              "      <td>27.945</td>\n",
              "      <td>28.094</td>\n",
              "    </tr>\n",
              "    <tr>\n",
              "      <th>1600</th>\n",
              "      <td>28.243</td>\n",
              "      <td>28.391</td>\n",
              "      <td>28.538</td>\n",
              "      <td>28.685</td>\n",
              "      <td>28.831</td>\n",
              "      <td>28.977</td>\n",
              "      <td>29.122</td>\n",
              "      <td>29.266</td>\n",
              "      <td>29.410</td>\n",
              "      <td>29.553</td>\n",
              "    </tr>\n",
              "    <tr>\n",
              "      <th>1700</th>\n",
              "      <td>29.696</td>\n",
              "      <td>29.838</td>\n",
              "      <td>29.979</td>\n",
              "      <td>30.120</td>\n",
              "      <td>30.260</td>\n",
              "      <td>30.399</td>\n",
              "      <td>30.538</td>\n",
              "      <td>30.676</td>\n",
              "      <td>30.813</td>\n",
              "      <td>30.950</td>\n",
              "    </tr>\n",
              "    <tr>\n",
              "      <th>1800</th>\n",
              "      <td>31.087</td>\n",
              "      <td>31.222</td>\n",
              "      <td>31.357</td>\n",
              "      <td>31.491</td>\n",
              "      <td>31.625</td>\n",
              "      <td>31.758</td>\n",
              "      <td>31.890</td>\n",
              "      <td>32.022</td>\n",
              "      <td>32.153</td>\n",
              "      <td>32.283</td>\n",
              "    </tr>\n",
              "    <tr>\n",
              "      <th>1900</th>\n",
              "      <td>32.413</td>\n",
              "      <td>32.542</td>\n",
              "      <td>32.670</td>\n",
              "      <td>32.797</td>\n",
              "      <td>32.924</td>\n",
              "      <td>33.050</td>\n",
              "      <td>33.175</td>\n",
              "      <td>33.300</td>\n",
              "      <td>33.424</td>\n",
              "      <td>33.547</td>\n",
              "    </tr>\n",
              "    <tr>\n",
              "      <th>2000</th>\n",
              "      <td>33.669</td>\n",
              "      <td>33.791</td>\n",
              "      <td>33.911</td>\n",
              "      <td>34.031</td>\n",
              "      <td>34.151</td>\n",
              "      <td>34.269</td>\n",
              "      <td>34.387</td>\n",
              "      <td>34.503</td>\n",
              "      <td>34.619</td>\n",
              "      <td>34.734</td>\n",
              "    </tr>\n",
              "    <tr>\n",
              "      <th>2100</th>\n",
              "      <td>34.849</td>\n",
              "      <td>34.962</td>\n",
              "      <td>35.074</td>\n",
              "      <td>35.186</td>\n",
              "      <td>35.296</td>\n",
              "      <td>35.406</td>\n",
              "      <td>35.515</td>\n",
              "      <td>35.623</td>\n",
              "      <td>35.730</td>\n",
              "      <td>35.836</td>\n",
              "    </tr>\n",
              "    <tr>\n",
              "      <th>2200</th>\n",
              "      <td>35.940</td>\n",
              "      <td>36.044</td>\n",
              "      <td>36.147</td>\n",
              "      <td>36.249</td>\n",
              "      <td>36.350</td>\n",
              "      <td>36.449</td>\n",
              "      <td>36.548</td>\n",
              "      <td>36.645</td>\n",
              "      <td>36.742</td>\n",
              "      <td>36.837</td>\n",
              "    </tr>\n",
              "  </tbody>\n",
              "</table>\n",
              "</div>\n",
              "      <button class=\"colab-df-convert\" onclick=\"convertToInteractive('df-d074875b-9a9c-42bb-8a49-fd8e3d65eb1d')\"\n",
              "              title=\"Convert this dataframe to an interactive table.\"\n",
              "              style=\"display:none;\">\n",
              "        \n",
              "  <svg xmlns=\"http://www.w3.org/2000/svg\" height=\"24px\"viewBox=\"0 0 24 24\"\n",
              "       width=\"24px\">\n",
              "    <path d=\"M0 0h24v24H0V0z\" fill=\"none\"/>\n",
              "    <path d=\"M18.56 5.44l.94 2.06.94-2.06 2.06-.94-2.06-.94-.94-2.06-.94 2.06-2.06.94zm-11 1L8.5 8.5l.94-2.06 2.06-.94-2.06-.94L8.5 2.5l-.94 2.06-2.06.94zm10 10l.94 2.06.94-2.06 2.06-.94-2.06-.94-.94-2.06-.94 2.06-2.06.94z\"/><path d=\"M17.41 7.96l-1.37-1.37c-.4-.4-.92-.59-1.43-.59-.52 0-1.04.2-1.43.59L10.3 9.45l-7.72 7.72c-.78.78-.78 2.05 0 2.83L4 21.41c.39.39.9.59 1.41.59.51 0 1.02-.2 1.41-.59l7.78-7.78 2.81-2.81c.8-.78.8-2.07 0-2.86zM5.41 20L4 18.59l7.72-7.72 1.47 1.35L5.41 20z\"/>\n",
              "  </svg>\n",
              "      </button>\n",
              "      \n",
              "  <style>\n",
              "    .colab-df-container {\n",
              "      display:flex;\n",
              "      flex-wrap:wrap;\n",
              "      gap: 12px;\n",
              "    }\n",
              "\n",
              "    .colab-df-convert {\n",
              "      background-color: #E8F0FE;\n",
              "      border: none;\n",
              "      border-radius: 50%;\n",
              "      cursor: pointer;\n",
              "      display: none;\n",
              "      fill: #1967D2;\n",
              "      height: 32px;\n",
              "      padding: 0 0 0 0;\n",
              "      width: 32px;\n",
              "    }\n",
              "\n",
              "    .colab-df-convert:hover {\n",
              "      background-color: #E2EBFA;\n",
              "      box-shadow: 0px 1px 2px rgba(60, 64, 67, 0.3), 0px 1px 3px 1px rgba(60, 64, 67, 0.15);\n",
              "      fill: #174EA6;\n",
              "    }\n",
              "\n",
              "    [theme=dark] .colab-df-convert {\n",
              "      background-color: #3B4455;\n",
              "      fill: #D2E3FC;\n",
              "    }\n",
              "\n",
              "    [theme=dark] .colab-df-convert:hover {\n",
              "      background-color: #434B5C;\n",
              "      box-shadow: 0px 1px 3px 1px rgba(0, 0, 0, 0.15);\n",
              "      filter: drop-shadow(0px 1px 2px rgba(0, 0, 0, 0.3));\n",
              "      fill: #FFFFFF;\n",
              "    }\n",
              "  </style>\n",
              "\n",
              "      <script>\n",
              "        const buttonEl =\n",
              "          document.querySelector('#df-d074875b-9a9c-42bb-8a49-fd8e3d65eb1d button.colab-df-convert');\n",
              "        buttonEl.style.display =\n",
              "          google.colab.kernel.accessAllowed ? 'block' : 'none';\n",
              "\n",
              "        async function convertToInteractive(key) {\n",
              "          const element = document.querySelector('#df-d074875b-9a9c-42bb-8a49-fd8e3d65eb1d');\n",
              "          const dataTable =\n",
              "            await google.colab.kernel.invokeFunction('convertToInteractive',\n",
              "                                                     [key], {});\n",
              "          if (!dataTable) return;\n",
              "\n",
              "          const docLinkHtml = 'Like what you see? Visit the ' +\n",
              "            '<a target=\"_blank\" href=https://colab.research.google.com/notebooks/data_table.ipynb>data table notebook</a>'\n",
              "            + ' to learn more about interactive tables.';\n",
              "          element.innerHTML = '';\n",
              "          dataTable['output_type'] = 'display_data';\n",
              "          await google.colab.output.renderOutput(dataTable, element);\n",
              "          const docLink = document.createElement('div');\n",
              "          docLink.innerHTML = docLinkHtml;\n",
              "          element.appendChild(docLink);\n",
              "        }\n",
              "      </script>\n",
              "    </div>\n",
              "  </div>\n",
              "  "
            ]
          },
          "metadata": {},
          "execution_count": 304
        }
      ]
    },
    {
      "cell_type": "markdown",
      "source": [
        "## ここからグラフ化して近似"
      ],
      "metadata": {
        "id": "aMsf29Vi7EkR"
      },
      "id": "aMsf29Vi7EkR"
    },
    {
      "cell_type": "code",
      "execution_count": 362,
      "id": "e798d886",
      "metadata": {
        "id": "e798d886",
        "colab": {
          "base_uri": "https://localhost:8080/",
          "height": 279
        },
        "outputId": "ddd36cd7-6f1e-4c16-a556-158f11b3741f"
      },
      "outputs": [
        {
          "output_type": "display_data",
          "data": {
            "text/plain": [
              "<Figure size 432x288 with 1 Axes>"
            ],
            "image/png": "[encoded data removed]"
          },
          "metadata": {
            "needs_background": "light"
          }
        }
      ],
      "source": [
        "dat_T = np.arange(0, 2300, 10) \n",
        "\n",
        "dat_V=df.to_numpy()\n",
        "dat_V=np.ravel(dat_V) #numpy.ravel()関数による一次元化\n",
        "plt.scatter(x=dat_V, y=dat_T)\n",
        "plt.xlabel(\"EMF / mV\")\n",
        "plt.ylabel(\"Temperature / C\")\n",
        "plt.show()"
      ]
    },
    {
      "cell_type": "code",
      "source": [
        "func_V=np.polyfit(dat_V,dat_T,5)\n",
        "print(func_V)"
      ],
      "metadata": {
        "id": "qor1EOye6yOo",
        "colab": {
          "base_uri": "https://localhost:8080/"
        },
        "outputId": "1d0ebf5a-4c77-41fe-d0f7-c8c22f15fb82"
      },
      "id": "qor1EOye6yOo",
      "execution_count": 363,
      "outputs": [
        {
          "output_type": "stream",
          "name": "stdout",
          "text": [
            "[ 3.44322401e-05 -3.20901439e-03  1.29026157e-01 -2.33706632e+00\n",
            "  7.00249467e+01  1.99076228e+00]\n"
          ]
        }
      ]
    },
    {
      "cell_type": "code",
      "source": [
        "y1 = np.poly1d(func_V)(dat_V)\n",
        "plt.scatter(x=dat_V, y=y1, color='r', s=5, marker='o')\n",
        "plt.plot(dat_V, dat_T)\n",
        "plt.xlabel(\"EMF / mV\")\n",
        "plt.ylabel(\"Temperature / C\")\n",
        "plt.show()"
      ],
      "metadata": {
        "colab": {
          "base_uri": "https://localhost:8080/",
          "height": 279
        },
        "id": "Zv37Lh9FXDMQ",
        "outputId": "c22465c5-47e6-490b-a527-1efb286fab21"
      },
      "id": "Zv37Lh9FXDMQ",
      "execution_count": 364,
      "outputs": [
        {
          "output_type": "display_data",
          "data": {
            "text/plain": [
              "<Figure size 432x288 with 1 Axes>"
            ],
            "image/png": "[encoded data removed]"
          },
          "metadata": {
            "needs_background": "light"
          }
        }
      ]
    },
    {
      "cell_type": "code",
      "source": [
        "val_V=input('Please input EMF value (mV)   ')\n",
        "val_V=float(val_V)\n",
        "res=func_V[0]*val_V**5+func_V[1]*val_V**4+func_V[2]*val_V**3+func_V[3]*val_V**2+func_V[4]*val_V**1+func_V[5]\n",
        "print(res)"
      ],
      "metadata": {
        "colab": {
          "base_uri": "https://localhost:8080/"
        },
        "id": "iIGl8xf9dj70",
        "outputId": "bc39f5a8-32cc-40c7-d614-baccbf3a1436"
      },
      "id": "iIGl8xf9dj70",
      "execution_count": 379,
      "outputs": [
        {
          "output_type": "stream",
          "name": "stdout",
          "text": [
            "Please input EMF value (mV)   12\n",
            "670.7354921918161\n"
          ]
        }
      ]
    },
    {
      "cell_type": "code",
      "source": [
        "func_T=np.polyfit(dat_T,dat_V,5)\n",
        "print(func_T)"
      ],
      "metadata": {
        "colab": {
          "base_uri": "https://localhost:8080/"
        },
        "id": "p2nqNGKI7vqI",
        "outputId": "04be6f73-db4d-4105-9e86-318e63083a79"
      },
      "id": "p2nqNGKI7vqI",
      "execution_count": 380,
      "outputs": [
        {
          "output_type": "stream",
          "name": "stdout",
          "text": [
            "[-4.90160605e-16  3.57498220e-12 -1.04374007e-08  1.22140187e-05\n",
            "  1.33987241e-02 -1.73466103e-04]\n"
          ]
        }
      ]
    },
    {
      "cell_type": "code",
      "source": [
        "y2 = np.poly1d(func_T)(dat_T)\n",
        "plt.scatter(x=dat_T, y=y2, color='r', s=5, marker='o')\n",
        "plt.plot(dat_T, dat_V)\n",
        "plt.ylabel(\"EMF / mV\")\n",
        "plt.xlabel(\"Temperature / C\")\n",
        "plt.show()"
      ],
      "metadata": {
        "colab": {
          "base_uri": "https://localhost:8080/",
          "height": 279
        },
        "id": "Y0FMAGjWXxxS",
        "outputId": "97842bcc-0c22-4ddb-9e8c-17daeed27646"
      },
      "id": "Y0FMAGjWXxxS",
      "execution_count": 366,
      "outputs": [
        {
          "output_type": "display_data",
          "data": {
            "text/plain": [
              "<Figure size 432x288 with 1 Axes>"
            ],
            "image/png": "[encoded data removed]"
          },
          "metadata": {
            "needs_background": "light"
          }
        }
      ]
    },
    {
      "cell_type": "code",
      "source": [
        "val_T=input('Please input Temperature value (C)')\n",
        "val_T=float(val_T)\n",
        "res=func_T[0]*val_T**5+func_T[1]*val_T**4+func_T[2]*val_T**3+func_T[3]*val_T**2+func_T[4]*val_T**1+func_T[5]\n",
        "print(res)"
      ],
      "metadata": {
        "colab": {
          "base_uri": "https://localhost:8080/"
        },
        "id": "N5J9SKFRcOFs",
        "outputId": "3add39a6-0131-4138-984b-46b172d418d4"
      },
      "id": "N5J9SKFRcOFs",
      "execution_count": 382,
      "outputs": [
        {
          "output_type": "stream",
          "name": "stdout",
          "text": [
            "Please input Temperature value (C)1500\n",
            "26.729417745171162\n"
          ]
        }
      ]
    },
    {
      "cell_type": "code",
      "source": [
        ""
      ],
      "metadata": {
        "id": "aSpDo-brgNlz"
      },
      "id": "aSpDo-brgNlz",
      "execution_count": null,
      "outputs": []
    }
  ],
  "metadata": {
    "kernelspec": {
      "display_name": "Python 3 (ipykernel)",
      "language": "python",
      "name": "python3"
    },
    "language_info": {
      "codemirror_mode": {
        "name": "ipython",
        "version": 3
      },
      "file_extension": ".py",
      "mimetype": "text/x-python",
      "name": "python",
      "nbconvert_exporter": "python",
      "pygments_lexer": "ipython3",
      "version": "3.9.7"
    },
    "colab": {
      "name": "fit_thermocouple.ipynb",
      "provenance": [],
      "collapsed_sections": [],
      "include_colab_link": true
    }
  },
  "nbformat": 4,
  "nbformat_minor": 5
}